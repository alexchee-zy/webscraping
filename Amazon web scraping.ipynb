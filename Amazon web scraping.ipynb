{
 "cells": [
  {
   "cell_type": "code",
   "execution_count": 2,
   "metadata": {},
   "outputs": [
    {
     "name": "stderr",
     "output_type": "stream",
     "text": [
      "\n",
      "\n",
      "====== WebDriver manager ======\n",
      "Current google-chrome version is 96.0.4664\n",
      "Get LATEST chromedriver version for 96.0.4664 google-chrome\n",
      "Driver [C:\\Users\\User\\.wdm\\drivers\\chromedriver\\win32\\96.0.4664.45\\chromedriver.exe] found in cache\n"
     ]
    }
   ],
   "source": [
    "# Import library\n",
    "from bs4 import BeautifulSoup\n",
    "\n",
    "from selenium import webdriver\n",
    "from selenium.webdriver.chrome.service import Service\n",
    "from webdriver_manager.chrome import ChromeDriverManager\n",
    "\n",
    "driver = webdriver.Chrome(service=Service(ChromeDriverManager().install()))\n",
    "driver.get(\"https://www.google.com\")\n",
    "\n",
    "import smtplib\n",
    "import datetime\n",
    "import time\n",
    "import csv"
   ]
  },
  {
   "cell_type": "code",
   "execution_count": 3,
   "metadata": {
    "scrolled": true
   },
   "outputs": [
    {
     "name": "stderr",
     "output_type": "stream",
     "text": [
      "<ipython-input-3-39dabef705a7>:2: DeprecationWarning: executable_path has been deprecated, please pass in a Service object\n",
      "  driver = webdriver.Chrome('C:/Users/User/.wdm/drivers/chromedriver/win32/96.0.4664.45/chromedriver.exe')\n"
     ]
    }
   ],
   "source": [
    "# Opening up connection and parsing\n",
    "driver = webdriver.Chrome('C:/Users/User/.wdm/drivers/chromedriver/win32/96.0.4664.45/chromedriver.exe')\n",
    "\n",
    "myurl = 'https://www.amazon.com/SAMSUNG-49-inch-Odyssey-FreeSync-LC49G95TSSNXZA/dp/B088HH6LW5/ref=sr_1_3?crid=B662TSESFHA4&keywords=ultrawide+monitor&qid=1641171857&sprefix=ultrawide+monit%2Caps%2C423&sr=8-3'\n",
    "\n",
    "driver.get(myurl)\n",
    "soup = BeautifulSoup(driver.page_source, \"html.parser\")\n",
    "# print(soup.prettify())"
   ]
  },
  {
   "cell_type": "code",
   "execution_count": 106,
   "metadata": {},
   "outputs": [
    {
     "name": "stdout",
     "output_type": "stream",
     "text": [
      "SAMSUNG 49-inch Odyssey G9 Gaming Monitor | QHD, 240hz, 1000R Curved, QLED, NVIDIA G-SYNC & FreeSync | LC49G95TSSNXZA Model\n",
      "1,398.00\n",
      "4,101 ratings\n",
      "4.4 out of 5 stars\n"
     ]
    }
   ],
   "source": [
    "# Title\n",
    "title = soup.find(id = 'productTitle').get_text().strip()\n",
    "print(title)\n",
    "\n",
    "# Price\n",
    "price = soup.find('span', {'class': \"a-offscreen\"}).text\n",
    "price = price[1:]\n",
    "print(price)\n",
    "\n",
    "# Number of rating\n",
    "total_rating = soup.find(id = \"acrCustomerReviewText\").text\n",
    "print(total_rating)\n",
    "\n",
    "# Rating\n",
    "rating = soup.find('i', {'data-hook': 'average-star-rating'}).text\n",
    "print(rating)"
   ]
  },
  {
   "cell_type": "code",
   "execution_count": 74,
   "metadata": {},
   "outputs": [
    {
     "name": "stdout",
     "output_type": "stream",
     "text": [
      "2022-01-03\n"
     ]
    }
   ],
   "source": [
    "# Create current date\n",
    "today = datetime.date.today()\n",
    "print(today)"
   ]
  },
  {
   "cell_type": "code",
   "execution_count": 110,
   "metadata": {},
   "outputs": [],
   "source": [
    "# Alternative to create csv and inserting data\n",
    "header = ['product_name','product_price', 'num_rating', 'rating', 'date']\n",
    "data = [title, price, total_rating, rating, today]\n",
    "\n",
    "with open('amazon_products.csv', 'w', newline = '', encoding = 'UTF-8') as f:\n",
    "    writer = csv.writer(f)\n",
    "    writer.writerow(header)\n",
    "    writer.writerow(data)\n",
    "    \n",
    "# # Create a csv\n",
    "# filename = \"amazon_products.csv\"\n",
    "# f = open(filename, \"w\")\n",
    "# headers = \"product_name, product_price, date\\n\"\n",
    "# f.write(headers)\n",
    "# # Input data into csv\n",
    "# f.write(title + \",\" + price + \",\" + str(today) + '\\n')\n",
    "# f.close()"
   ]
  },
  {
   "cell_type": "code",
   "execution_count": 83,
   "metadata": {},
   "outputs": [],
   "source": [
    "# Append data to csv\n",
    "with open('amazon_products.csv', 'a+', newline = '', encoding = 'UTF-8') as f:\n",
    "    writer = csv.writer(f)\n",
    "    writer.writerow(data)"
   ]
  },
  {
   "cell_type": "code",
   "execution_count": 156,
   "metadata": {},
   "outputs": [],
   "source": [
    "# Create a function to send email\n",
    "def send_mail():\n",
    "    sender_email = ''\n",
    "    to = ''\n",
    "    pw = '**********'\n",
    "    server = smtplib.SMTP_SSL('smtp.gmail.com', 465)\n",
    "    server.ehlo()\n",
    "    # server.starttls()\n",
    "    server.ehlo()\n",
    "    server.login(user = sender_email, password = pw)\n",
    "    \n",
    "    subject = \"The monitor you want is less than $1000! Now is your chance to buy it!!!\"\n",
    "    body = \"Alex, this is the moment you have been waiting for. Grab it now!\"\n",
    "    \n",
    "    msg = f\"Subject: {subject}\\n\\n{body}\"\n",
    "    \n",
    "    server.sendmail(sender_email, to, msg)"
   ]
  },
  {
   "cell_type": "code",
   "execution_count": 157,
   "metadata": {},
   "outputs": [],
   "source": [
    "# Create a function to check the price\n",
    "def check_price():\n",
    "    driver = webdriver.Chrome('C:/Users/User/.wdm/drivers/chromedriver/win32/96.0.4664.45/chromedriver.exe')\n",
    "\n",
    "    myurl = 'https://www.amazon.com/SAMSUNG-49-inch-Odyssey-FreeSync-LC49G95TSSNXZA/dp/B088HH6LW5/ref=sr_1_3?crid=B662TSESFHA4&keywords=ultrawide+monitor&qid=1641171857&sprefix=ultrawide+monit%2Caps%2C423&sr=8-3'\n",
    "\n",
    "    driver.get(myurl)\n",
    "    soup = BeautifulSoup(driver.page_source, \"html.parser\")\n",
    "    \n",
    "    title = soup.find(id = 'productTitle').get_text().strip()\n",
    "\n",
    "\n",
    "    price = soup.find('span', {'class': \"a-offscreen\"}).text\n",
    "    price = price[1:]\n",
    "\n",
    "    total_rating = soup.find(id = \"acrCustomerReviewText\").text\n",
    "\n",
    "    rating = soup.find('i', {'data-hook': 'average-star-rating'}).text\n",
    "\n",
    "    today = datetime.date.today()\n",
    "    \n",
    "    header = ['product_name','product_price', 'num_rating', 'rating', 'date']\n",
    "    data = [title, price, total_rating, rating, today]\n",
    "    \n",
    "    with open('amazon_products.csv', 'a+', newline = '', encoding = 'UTF-8') as f:\n",
    "        writer = csv.writer(f)\n",
    "        writer.writerow(data)\n",
    "    \n",
    "    if price <= str(1500):\n",
    "        send_mail()"
   ]
  },
  {
   "cell_type": "code",
   "execution_count": 158,
   "metadata": {},
   "outputs": [
    {
     "name": "stderr",
     "output_type": "stream",
     "text": [
      "<ipython-input-157-2421fc8f0a08>:3: DeprecationWarning: executable_path has been deprecated, please pass in a Service object\n",
      "  driver = webdriver.Chrome('C:/Users/User/.wdm/drivers/chromedriver/win32/96.0.4664.45/chromedriver.exe')\n"
     ]
    },
    {
     "ename": "KeyboardInterrupt",
     "evalue": "",
     "output_type": "error",
     "traceback": [
      "\u001b[1;31m---------------------------------------------------------------------------\u001b[0m",
      "\u001b[1;31mKeyboardInterrupt\u001b[0m                         Traceback (most recent call last)",
      "\u001b[1;32m<ipython-input-158-da40684974f1>\u001b[0m in \u001b[0;36m<module>\u001b[1;34m\u001b[0m\n\u001b[0;32m      1\u001b[0m \u001b[1;32mwhile\u001b[0m \u001b[1;32mTrue\u001b[0m\u001b[1;33m:\u001b[0m\u001b[1;33m\u001b[0m\u001b[1;33m\u001b[0m\u001b[0m\n\u001b[0;32m      2\u001b[0m     \u001b[0mcheck_price\u001b[0m\u001b[1;33m(\u001b[0m\u001b[1;33m)\u001b[0m\u001b[1;33m\u001b[0m\u001b[1;33m\u001b[0m\u001b[0m\n\u001b[1;32m----> 3\u001b[1;33m     \u001b[0mtime\u001b[0m\u001b[1;33m.\u001b[0m\u001b[0msleep\u001b[0m\u001b[1;33m(\u001b[0m\u001b[1;36m10\u001b[0m\u001b[1;33m)\u001b[0m\u001b[1;33m\u001b[0m\u001b[1;33m\u001b[0m\u001b[0m\n\u001b[0m",
      "\u001b[1;31mKeyboardInterrupt\u001b[0m: "
     ]
    }
   ],
   "source": [
    "while True:\n",
    "    check_price()\n",
    "    time.sleep(86400)"
   ]
  }
 ],
 "metadata": {
  "kernelspec": {
   "display_name": "Python 3",
   "language": "python",
   "name": "python3"
  },
  "language_info": {
   "codemirror_mode": {
    "name": "ipython",
    "version": 3
   },
   "file_extension": ".py",
   "mimetype": "text/x-python",
   "name": "python",
   "nbconvert_exporter": "python",
   "pygments_lexer": "ipython3",
   "version": "3.8.5"
  }
 },
 "nbformat": 4,
 "nbformat_minor": 4
}
